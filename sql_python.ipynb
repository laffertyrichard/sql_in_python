{
 "cells": [
  {
   "cell_type": "code",
   "execution_count": 4,
   "metadata": {},
   "outputs": [],
   "source": [
    "from sqlalchemy import create_engine\n",
    "import math"
   ]
  },
  {
   "cell_type": "code",
   "execution_count": 7,
   "metadata": {},
   "outputs": [],
   "source": [
    "# Database credentials\n",
    "postgres_user = 'dsbc_student'\n",
    "postgres_pw = '7*.8G9QH21'\n",
    "postgres_host = '142.93.121.174'\n",
    "postgres_port = '5432'\n",
    "postgres_db = 'dvdrentals'\n",
    "\n",
    "# use the credentials to start a connection\n",
    "engine = create_engine('postgresql://{}:{}@{}:{}/{}'.format(\n",
    "    postgres_user, postgres_pw, postgres_host, postgres_port, postgres_db))"
   ]
  },
  {
   "cell_type": "code",
   "execution_count": 8,
   "metadata": {},
   "outputs": [
    {
     "name": "stdout",
     "output_type": "stream",
     "text": [
      "(1, 'ACADEMY DINOSAUR', 'A Epic Drama of a Feminist And a Mad Scientist who must Battle a Teacher in The Canadian Rockies', 2006, 1, None, 6, Decimal('0.99'), 86, Decimal('20.99'), 'PG', datetime.datetime(2007, 9, 10, 17, 46, 3, 905795), ['Deleted Scenes', 'Behind the Scenes'], \"'academi':1 'battl':15 'canadian':20 'dinosaur':2 'drama':5 'epic':4 'feminist':8 'mad':11 'must':14 'rocki':21 'scientist':12 'teacher':17\")\n",
      "(2, 'ACE GOLDFINGER', 'A Astounding Epistle of a Database Administrator And a Explorer who must Find a Car in Ancient China', 2006, 1, None, 3, Decimal('4.99'), 48, Decimal('12.99'), 'G', datetime.datetime(2007, 9, 10, 17, 46, 3, 905795), ['Trailers', 'Deleted Scenes'], \"'ace':1 'administr':9 'ancient':19 'astound':4 'car':17 'china':20 'databas':8 'epistl':5 'explor':12 'find':15 'goldfing':2 'must':14\")\n",
      "(3, 'ADAPTATION HOLES', 'A Astounding Reflection of a Lumberjack And a Car who must Sink a Lumberjack in A Baloon Factory', 2006, 1, None, 7, Decimal('2.99'), 50, Decimal('18.99'), 'NC-17', datetime.datetime(2007, 9, 10, 17, 46, 3, 905795), ['Trailers', 'Deleted Scenes'], \"'adapt':1 'astound':4 'baloon':19 'car':11 'factori':20 'hole':2 'lumberjack':8,16 'must':13 'reflect':5 'sink':14\")\n",
      "(4, 'AFFAIR PREJUDICE', 'A Fanciful Documentary of a Frisbee And a Lumberjack who must Chase a Monkey in A Shark Tank', 2006, 1, None, 5, Decimal('2.99'), 117, Decimal('26.99'), 'G', datetime.datetime(2007, 9, 10, 17, 46, 3, 905795), ['Commentaries', 'Behind the Scenes'], \"'affair':1 'chase':14 'documentari':5 'fanci':4 'frisbe':8 'lumberjack':11 'monkey':16 'must':13 'prejudic':2 'shark':19 'tank':20\")\n",
      "(5, 'AFRICAN EGG', 'A Fast-Paced Documentary of a Pastry Chef And a Dentist who must Pursue a Forensic Psychologist in The Gulf of Mexico', 2006, 1, None, 6, Decimal('2.99'), 130, Decimal('22.99'), 'G', datetime.datetime(2007, 9, 10, 17, 46, 3, 905795), ['Deleted Scenes'], \"'african':1 'chef':11 'dentist':14 'documentari':7 'egg':2 'fast':5 'fast-pac':4 'forens':19 'gulf':23 'mexico':25 'must':16 'pace':6 'pastri':10 'psychologist':20 'pursu':17\")\n",
      "(6, 'AGENT TRUMAN', 'A Intrepid Panorama of a Robot And a Boy who must Escape a Sumo Wrestler in Ancient China', 2006, 1, None, 3, Decimal('2.99'), 169, Decimal('17.99'), 'PG', datetime.datetime(2007, 9, 10, 17, 46, 3, 905795), ['Deleted Scenes'], \"'agent':1 'ancient':19 'boy':11 'china':20 'escap':14 'intrepid':4 'must':13 'panorama':5 'robot':8 'sumo':16 'truman':2 'wrestler':17\")\n",
      "(7, 'AIRPLANE SIERRA', 'A Touching Saga of a Hunter And a Butler who must Discover a Butler in A Jet Boat', 2006, 1, None, 6, Decimal('4.99'), 62, Decimal('28.99'), 'PG-13', datetime.datetime(2007, 9, 10, 17, 46, 3, 905795), ['Trailers', 'Deleted Scenes'], \"'airplan':1 'boat':20 'butler':11,16 'discov':14 'hunter':8 'jet':19 'must':13 'saga':5 'sierra':2 'touch':4\")\n",
      "(8, 'AIRPORT POLLOCK', 'A Epic Tale of a Moose And a Girl who must Confront a Monkey in Ancient India', 2006, 1, None, 6, Decimal('4.99'), 54, Decimal('15.99'), 'R', datetime.datetime(2007, 9, 10, 17, 46, 3, 905795), ['Trailers'], \"'airport':1 'ancient':18 'confront':14 'epic':4 'girl':11 'india':19 'monkey':16 'moos':8 'must':13 'pollock':2 'tale':5\")\n",
      "(9, 'ALABAMA DEVIL', 'A Thoughtful Panorama of a Database Administrator And a Mad Scientist who must Outgun a Mad Scientist in A Jet Boat', 2006, 1, None, 3, Decimal('2.99'), 114, Decimal('21.99'), 'PG-13', datetime.datetime(2007, 9, 10, 17, 46, 3, 905795), ['Trailers', 'Deleted Scenes'], \"'administr':9 'alabama':1 'boat':23 'databas':8 'devil':2 'jet':22 'mad':12,18 'must':15 'outgun':16 'panorama':5 'scientist':13,19 'thought':4\")\n",
      "(10, 'ALADDIN CALENDAR', 'A Action-Packed Tale of a Man And a Lumberjack who must Reach a Feminist in Ancient China', 2006, 1, None, 6, Decimal('4.99'), 63, Decimal('24.99'), 'NC-17', datetime.datetime(2007, 9, 10, 17, 46, 3, 905795), ['Trailers', 'Deleted Scenes'], \"'action':5 'action-pack':4 'aladdin':1 'ancient':20 'calendar':2 'china':21 'feminist':18 'lumberjack':13 'man':10 'must':15 'pack':6 'reach':16 'tale':7\")\n"
     ]
    }
   ],
   "source": [
    "# Execute the SQL statement\n",
    "rentals = engine.execute('select * from film limit 10')\n",
    "\n",
    "# dispose the connection\n",
    "engine.dispose()\n",
    "\n",
    "# use fetchall() to get a list of rows from the results.\n",
    "rows = rentals.fetchall()\n",
    "\n",
    "# now process the list of rows\n",
    "for row in rows:\n",
    "  print(row)\n"
   ]
  },
  {
   "cell_type": "code",
   "execution_count": 10,
   "metadata": {},
   "outputs": [
    {
     "data": {
      "text/plain": [
       "['film_id',\n",
       " 'title',\n",
       " 'description',\n",
       " 'release_year',\n",
       " 'language_id',\n",
       " 'original_language_id',\n",
       " 'rental_duration',\n",
       " 'rental_rate',\n",
       " 'length',\n",
       " 'replacement_cost',\n",
       " 'rating',\n",
       " 'last_update',\n",
       " 'special_features',\n",
       " 'fulltext']"
      ]
     },
     "execution_count": 10,
     "metadata": {},
     "output_type": "execute_result"
    }
   ],
   "source": [
    "rentals.keys()"
   ]
  },
  {
   "cell_type": "code",
   "execution_count": 11,
   "metadata": {},
   "outputs": [],
   "source": [
    "def mean(numbers):\n",
    "  total_sum = 0;  # initialize the sum to zero\n",
    "  for n in numbers:\n",
    "    total_sum += n # add up the numbers in the array\n",
    "  count = len(numbers)   # find the length of the array\n",
    "  avg = total_sum / count  # calculate the mean\n",
    "  return avg  # return the result"
   ]
  },
  {
   "cell_type": "code",
   "execution_count": 12,
   "metadata": {},
   "outputs": [],
   "source": [
    "def median(numbers):\n",
    "  numbers.sort()  # sort the list of numbers\n",
    "  count = len(numbers) # get the length of the array\n",
    "  isEven = count % 2 == 0 # check if this list is of even length\n",
    "  \n",
    "  if (isEven):\n",
    "    # find the two numbers in the middle of the array\n",
    "    mid = math.floor( count / 2 )\n",
    "    a = numbers[mid]\n",
    "    b = numbers[mid + 1]\n",
    "    # find the average of these two numbers\n",
    "    ans = (a + b) / 2\n",
    "  else:\n",
    "    ans = numbers[math.floor( count / 2 )]\n",
    " \n",
    "  return ans"
   ]
  },
  {
   "cell_type": "code",
   "execution_count": 13,
   "metadata": {},
   "outputs": [],
   "source": [
    "def standard_deviation(numbers):\n",
    "  X_bar = mean(numbers)\n",
    "  N = len(numbers)\n",
    "  total_sum = 0\n",
    "  for X in numbers:\n",
    "    diff = X - X_bar\n",
    "    squared = math.pow(diff, 2)\n",
    "    total_sum += squared\n",
    "  sigma = math.sqrt(total_sum / (N - 1))  \n",
    "  return sigma"
   ]
  },
  {
   "cell_type": "code",
   "execution_count": 15,
   "metadata": {},
   "outputs": [
    {
     "name": "stdout",
     "output_type": "stream",
     "text": [
      "(195, 'R')\n",
      "(210, 'NC-17')\n",
      "(194, 'PG')\n",
      "(223, 'PG-13')\n",
      "(178, 'G')\n"
     ]
    }
   ],
   "source": [
    "sql = '''\n",
    "  SELECT COUNT(*), rating \n",
    "  FROM film\n",
    "  GROUP BY rating;\n",
    "'''\n",
    "\n",
    "results = engine.execute(sql)\n",
    "engine.dispose()\n",
    "rows = results.fetchall()\n",
    "\n",
    "# print some results just to see what we got\n",
    "for row in rows:\n",
    "  print(row)"
   ]
  },
  {
   "cell_type": "code",
   "execution_count": 18,
   "metadata": {},
   "outputs": [
    {
     "name": "stdout",
     "output_type": "stream",
     "text": [
      "(195, 'R', Decimal('118.6615384615384615'))\n",
      "(210, 'NC-17', Decimal('113.2285714285714286'))\n",
      "(194, 'PG', Decimal('112.0051546391752577'))\n",
      "(223, 'PG-13', Decimal('120.4439461883408072'))\n",
      "(178, 'G', Decimal('111.0505617977528090'))\n"
     ]
    }
   ],
   "source": [
    "sql = '''\n",
    "  SELECT COUNT(*), rating, AVG(length) \n",
    "  FROM film\n",
    "  GROUP BY rating;\n",
    "'''\n",
    "\n",
    "results = engine.execute(sql)\n",
    "engine.dispose()\n",
    "rows = results.fetchall()\n",
    "\n",
    "# print some results just to see what we got\n",
    "for row in rows:\n",
    "  print(row)"
   ]
  },
  {
   "cell_type": "code",
   "execution_count": 27,
   "metadata": {},
   "outputs": [
    {
     "name": "stdout",
     "output_type": "stream",
     "text": [
      "The mean length of movies is 200.0\n",
      "The median length of movies is 195\n",
      "The standard deviation of movie length is 17.131841699011815\n"
     ]
    }
   ],
   "source": [
    "sql = '''\n",
    "  SELECT COUNT (*), SUM(length), rating\n",
    "  FROM film\n",
    "  GROUP BY rating;\n",
    "'''\n",
    "\n",
    "results = engine.execute(sql)\n",
    "engine.dispose()\n",
    "rows = results.fetchall()\n",
    "\n",
    "\n",
    "counts = [row['count'] for row in rows]\n",
    "\n",
    "print('The mean length of movies is {}'.format(mean(counts)))\n",
    "print('The median length of movies is {}'.format(median(counts)))\n",
    "print('The standard deviation of movie length is {}'.format(standard_deviation(counts)))"
   ]
  },
  {
   "cell_type": "code",
   "execution_count": null,
   "metadata": {},
   "outputs": [],
   "source": []
  }
 ],
 "metadata": {
  "kernelspec": {
   "display_name": "Python 3",
   "language": "python",
   "name": "python3"
  },
  "language_info": {
   "codemirror_mode": {
    "name": "ipython",
    "version": 3
   },
   "file_extension": ".py",
   "mimetype": "text/x-python",
   "name": "python",
   "nbconvert_exporter": "python",
   "pygments_lexer": "ipython3",
   "version": "3.7.3"
  }
 },
 "nbformat": 4,
 "nbformat_minor": 2
}
